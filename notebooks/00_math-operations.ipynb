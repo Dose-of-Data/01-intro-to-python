{
 "cells": [
  {
   "cell_type": "code",
   "execution_count": 2,
   "id": "dc855d27-1958-4653-8c4d-d924cfa57f29",
   "metadata": {
    "jupyter": {
     "source_hidden": true
    },
    "tags": []
   },
   "outputs": [
    {
     "data": {
      "text/html": [
       "\n",
       "<img src=\"https://avatars.githubusercontent.com/u/73504156?s=100&v=4\" style=\"float: left; margin-right: 15px; width: 75px;\">\n",
       "<h1 style=\"margin-bottom: -1px; margin-top: 5px;\">01 Intro to Python: Math Operators</h1>\n",
       "    <div>Data Science Fundamentals</div>\n",
       "        <div style=\"float: left; margin-right: 5px;\">\n",
       "            David Yerrington\n",
       "        </div>\n",
       "    </div>\n",
       "    <a href=\"http://www.github.com/dyerrington\"><img src=\"https://snipboard.io/mFdILJ.jpg\" style=\"width: 20px; display: inline-block;\" /></a>\n",
       "    <a href=\"http://www.linkedin.com/in/davidyerrington\"><img src=\"https://snipboard.io/UZ3azp.jpg\" style=\"width: 20px;\"></a>\n",
       "    <a href=\"https://discord.gg/aqCp7DVhWn\"><img src=\"https://snipboard.io/NHlrIG.jpg\" style=\"width: 20px;\"></a>\n",
       "\n",
       "</div>\n"
      ],
      "text/plain": [
       "<IPython.core.display.HTML object>"
      ]
     },
     "metadata": {},
     "output_type": "display_data"
    }
   ],
   "source": [
    "%%html\n",
    "\n",
    "<img src=\"https://avatars.githubusercontent.com/u/73504156?s=100&v=4\" style=\"float: left; margin-right: 15px; width: 75px;\">\n",
    "<h1 style=\"margin-bottom: -1px; margin-top: 5px;\">01 Intro to Python: Math Operators</h1>\n",
    "    <div>Data Science Fundamentals</div>\n",
    "        <div style=\"float: left; margin-right: 5px;\">\n",
    "            David Yerrington\n",
    "        </div>\n",
    "    </div>\n",
    "    <a href=\"http://www.github.com/dyerrington\"><img src=\"https://snipboard.io/mFdILJ.jpg\" style=\"width: 20px; display: inline-block;\" /></a>\n",
    "    <a href=\"http://www.linkedin.com/in/davidyerrington\"><img src=\"https://snipboard.io/UZ3azp.jpg\" style=\"width: 20px;\"></a>\n",
    "    <a href=\"https://discord.gg/aqCp7DVhWn\"><img src=\"https://snipboard.io/NHlrIG.jpg\" style=\"width: 20px;\"></a>\n",
    "\n",
    "</div>"
   ]
  },
  {
   "cell_type": "markdown",
   "id": "9fe9ecca-386a-49c3-9860-55a7f7267534",
   "metadata": {},
   "source": [
    "## Objectives\n",
    "\n",
    "Upon finishing this notebook, you will be able to:\n",
    "\n",
    "- Explain to random strangers, friends, and family what Python is and how it can be used\n",
    "- Identify basic Python math operators\n",
    "- Convert common math equations to Python\n",
    "\n",
    "Prerequisites\n",
    "- Setup [Juptyer Lab](https://jupyterlab.readthedocs.io/en/stable/getting_started/overview.html) + [Python environemnt](https://www.anaconda.com/products/individual) (Anaconda is strongly recommended as your go to Python environment for data science.)\n",
    "- Run Jupyter from the [command line interface](https://jupyterlab.readthedocs.io/en/stable/getting_started/starting.html) or using [Anaconda Navigator](https://docs.anaconda.com/anaconda/navigator/index.html)"
   ]
  },
  {
   "cell_type": "markdown",
   "id": "5c298007-6c62-4d20-8423-563e8ee3bb2c",
   "metadata": {
    "tags": []
   },
   "source": [
    "# Welcome\n",
    "\n",
    "There are many places to start when learning a new programming language.  One of the hardest ideas for new students to grasp about programming is not really \"what\" is programming but \"how.\"  Many people learn how hammers, saws, and drills work before they learn to build houses.  It's easy to learn how these tools work but it's kind of hard to learn how to build houses.  The approach we will take will be hands-on with lots of practice an explanation around how to adapt the practice of learning fundamentals in the context of building \"something.\"  \n",
    "\n",
    "To use another analogy, before we can learn a langauge like English, we first need to understand the syntax and gramatical rules to express ideas.  Learning Python is no different and I, David Yerrington, believe this is much easier to learn Python than English as long as you find a meaningful reason to apply the knowledge you learn.  If you can meld knowledge with application with the practice of programming, you will retain what you learn and approach problems like how to design an application, machine learning model, or complex data transformation with ease.\n",
    "\n",
    "## The Dunning-Kruger Effect and The Pit of Despair\n",
    "\n",
    "Throughout your journey of learning a programming language, you will face obstacles and problems with understanding and applying new ideas.  One of the hardest parts of learning is checking your own understanding and knowing if what you've learned is actually \"legit\" or not.  This is one of the reasons I created a [Discord server](discord.gg/aqCp7DVhWn) for others to connect with other people to encourage the exchange of ideas and ask questions.  Nothing will replace having an actual mentor but if you follow these notebooks the best you can, and complete the suggested projects, you will be well on your way to working independently with confidence.\n",
    "\n",
    "**Learning a deep topic kind of looks like this:**\n",
    "\n",
    "![](https://snipboard.io/A3Bv5H.jpg)\n",
    "\n",
    "> [Britannica](https://www.britannica.com/science/Dunning-Kruger-effect) offers this definition of the Dunning-Krugar effect:\n",
    ">\n",
    ">_\"Dunning-Kruger effect, in psychology, a cognitive bias whereby people with limited knowledge or competence in a given intellectual or social domain greatly overestimate their own knowledge or competence in that domain relative to objective criteria or to the performance of their peers or of people in general.\"_\n",
    "\n",
    "If you look at the above model, you may think the journey of learning is nice and linear.  The truth is, you will find that many topics in programming Python can be experienced at any point of this curve, especially the _pit of despair_.  Many students describe the pit of despair as a place of unforgiving self-doubt and frustration.  This is natural and expected and actually a place you want to be if you are applying yourself fully to a new topic.  The important thing is that you give yourself a break and reset expectations -- you are only human.\n",
    "\n",
    "Consider the following:\n",
    "\n",
    "- You don't know everything.\n",
    "- Don't pretend to know everything.\n",
    "- It's ok not to know everything.\n",
    "- Give yourself permission to fail. Don't expect perfection.\n",
    "- With focus and practice you will overcome.\n",
    "- Ask someone for help it's fine!\n",
    "- Identifying what you don't know is extremely benefitial.\n",
    "\n",
    "Additionaly, consider when the last time you had to do the exact thing you're stuck with?  Never?  Well, take it easy on yourself if you're the type to expect perfection.  With code, \"if it's not broken, something must be wrong\" is something I always tell myself even with decades of experience. \n",
    "\n",
    "### Growth vs. Fixed Mindset\n",
    "\n",
    "Yes we will jump in soon and start learning about math operators in Python but since I've taught dozens of cohorts over the course of my career, I think it's important to frame a few core ideals that benefit everyone.  In data science classes that I've taught, I always encourage new students to set expectations for themselves as appropriately as possible.\n",
    "\n",
    "The world isn't black and white so if we had to put people in two buckets, it would be those who believe talent and aptitude determine outcomes in life vs those who believe these traits can be cultivated through focus and practice.\n",
    "\n",
    "Here are few things I've heard those with a fixed mindset say:\n",
    "1. \"Some people people are just born to be talented musicians.\"\n",
    "1. \"Oh I'm not a computer person.\"\n",
    "1. \"I can't learn **that** becuase I've only worked in **[insert whatever it is]**.\"\n",
    "1. \"If only I learned to speak Klingon as a kid, I could watch these Star Trek scenes without subtitles.\"\n",
    "1. (My favorite) \"You should stick with **[the same thing]** because you never studied computer science.\"\n",
    "\n",
    "The same statements approached by a growth mindset would be:\n",
    "1. \"If I dedicate focused effort on a musical instrument, I can become profecient.\"\n",
    "1. \"I'm not familliar with computers but I'm interesting in learning how they work.\"\n",
    "1. \"Even though I've dedicated my life to accounting I can learn to program Python.\"\n",
    "1. \"If I practice writing down Klingon dialog and practicing grammar, I can turn the subtitles off eventually.\"\n",
    "1. \"I define my own limitations and interests, not other people.\"\n",
    "\n",
    "$ \\newcommand{\\euler}[1]{\\mathrm{#1}} $\n",
    "\n",
    "> **Unecessary, Totally Optional, Feel-Free-To-Skip, Side-Story**\n",
    "> \n",
    "> Full disclosure, I am what they call a \"super senior.\"  I graduated highschool a year late barely graduating with just-enough-passing-but-terrible grades in most classes.  Frequently, I skipped class to practice music or hang out with friends across town.  Somehow I managed to escape my Alaskan school district without the prerequisite math classes becuase my counselor found a loophole.  I managed to apply state college credit from a music theory class I completed at the local state college one summer (GO UAA!).  Growing up, academic achievement was not my strength.  \n",
    "> \n",
    "> In fact, the highest level math class that I've ever successfully completed with a passing grade prior to my first professional programming job was pre-algebra.  In college I studied music performance.  The bottom line is, math wasn't part of my life nor was learning in an academic setting.  My family was mostly blue-collar and neither of my parents were great at math even though my dad was an architect and studied engineering.\n",
    ">\n",
    "> I told myself I wasn't good at math or learning deep academic knowledge.  I believed this in-part due to my past grades, what other people told me \"I should do because of my natural abilities\", and especially what I believed to be true about my own limitations.  Even one of my closest friends told me I shouldn't bother because it's so much to know and I should focus on making money programming because it was what I've been doing since I was a kid.  There were a lot of expectations about how I related to math as a general idea that were reinforce since kindergarden that I carried around.\n",
    ">\n",
    "> When I started working with machine learning at work, one of the first major areas of interest was within recommender systems.  This area of knowledge requires a basic understanding of vector algebra and distance metrics to factor large matrices effectively.  So I took a machine learning class because I genuinely believed this was the future and I wanted more than anything to be a part of it.  The first formal machine learning class I took via Stanford extension had me programming in Octave.  The first big hurdle that I faced was a concept called **gradient descent** which uses partial derrivatives to solve closed-form solutions for optimizing error in supervised machine learning problems.\n",
    ">\n",
    "> The only problem with partial derrivatives at the point in time I took this machine learning class was that I never learned them.  I also didn't understand Eulers constant $ \\euler{e} $ or why it was referred in places for some methods.  30 hours later and now with a large Morris Kline book on caculus, I managed to draw out a series of notes and illustrations that explained the basis of slope of a tangent and how its application is useful for calculating the direction of which a vector should move to minimize error in machine learning applications.  This was a \"pit of despair\" moment for me but also an analogy for my optimizing my own beliefs with respect to math.\n",
    ">\n",
    "> Over the course of my adult life, I've learned many things about the world and acquired knowledge by simply reading, asking, and doing.  However, I've always told myself I wasn't good at math.  This machine learning class was the hardest thing I've ever done academically but through incremental knowledge gain, breaking concepts down modularly, I passed with a near perfect grade which is something I've never been able to do in my entire life.  Passing this machine learning class gave me the confidence to approach everything else in this domain, take many more math classes, and ultimately teach math and stat topics at an accredited school.\n",
    ">\n",
    "> Now I don't condone learning everything on your own or self-teaching caculus as I do think it's more practical to learn this with help.  There are many good resources in an age that is unsurpassed when it comes to access to knowledge and schools.\n",
    ">\n",
    "> I tell this story to illustrate that if a near high school dropout can learn a difficult topic with the right mindset, you can too.  There's nothing special about me or how I learn.  Learning is a series of \"almosts\" and \"not-quites.\"  It's important to consider what you do know vs don't to create a specific plan that pulls you out of your own pit of despair.\n",
    "\n",
    "\n",
    "\n"
   ]
  },
  {
   "cell_type": "markdown",
   "id": "89bdb85b-adc6-4ea5-9478-c39c956e7b5d",
   "metadata": {},
   "source": [
    "## Math Operations\n",
    "\n",
    "The backbone of data science is engineering and math.  When it comes to math, more specifically, calculus, linear algebra, and statistics are the underpinning of our craft.  I believe anyone with motivation can learn these topics to a level of employabilitiy and beyond.  However, much descrimination stil exists in the job market when it comes to non-STEM college graduates.  Despite teaching these topics in private school and having 20 years of expeirence building and managing data and ML services, even I get passed up for contracts and opportunities that have hard PhD requirements.  Still, if me, a high school super senior that had many hangups on learning math can do it, you can do it too!\n",
    "\n",
    "With this being said, it' still a long road but it's very rewarding.  What we are sarting with are basic Python math operators, including:\n",
    "\n",
    "\n",
    "|Type | Description | Example |\n",
    "|---|---|---|\n",
    "| Addition | | 10 + 5 |\n",
    "| Subtraction | | 15 - 2 |\n",
    "| Multiplication | | 15 * 2 |\n",
    "| Division | | 50 / 5 | \n",
    "| Modulus | | 5 %% 2 |\n",
    "| Floor Division | | 100 // 5 |\n",
    "\n"
   ]
  },
  {
   "cell_type": "code",
   "execution_count": null,
   "id": "ce609820-8a70-4d43-8f42-22033c4476b7",
   "metadata": {},
   "outputs": [],
   "source": [
    "## more content on the way!!!"
   ]
  }
 ],
 "metadata": {
  "kernelspec": {
   "display_name": "Python 3 (ipykernel)",
   "language": "python",
   "name": "python3"
  },
  "language_info": {
   "codemirror_mode": {
    "name": "ipython",
    "version": 3
   },
   "file_extension": ".py",
   "mimetype": "text/x-python",
   "name": "python",
   "nbconvert_exporter": "python",
   "pygments_lexer": "ipython3",
   "version": "3.8.5"
  }
 },
 "nbformat": 4,
 "nbformat_minor": 5
}
